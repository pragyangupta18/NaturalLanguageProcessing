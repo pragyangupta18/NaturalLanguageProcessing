{
  "nbformat": 4,
  "nbformat_minor": 0,
  "metadata": {
    "colab": {
      "provenance": []
    },
    "kernelspec": {
      "name": "python3",
      "display_name": "Python 3"
    },
    "language_info": {
      "name": "python"
    }
  },
  "cells": [
    {
      "cell_type": "markdown",
      "source": [
        "Name - Pragyan Gupta\n",
        "class - Te\n",
        "roll number - te-aids-c-11\n",
        "Batch - c1\n",
        "# Assignment - Spell correction"
      ],
      "metadata": {
        "id": "SGQvxY1NW14J"
      }
    },
    {
      "cell_type": "code",
      "execution_count": 7,
      "metadata": {
        "colab": {
          "base_uri": "https://localhost:8080/",
          "height": 0
        },
        "id": "u2I5oAbTUMxc",
        "outputId": "6d070dd3-fa00-4c50-da71-dc9043166b61"
      },
      "outputs": [
        {
          "output_type": "stream",
          "name": "stdout",
          "text": [
            "Requirement already satisfied: autocorrect in /usr/local/lib/python3.10/dist-packages (2.6.1)\n"
          ]
        }
      ],
      "source": [
        "!pip install autocorrect\n"
      ]
    },
    {
      "cell_type": "code",
      "source": [
        "from autocorrect import Speller\n",
        "spell = Speller()"
      ],
      "metadata": {
        "id": "jPWmpNAmWhMu"
      },
      "execution_count": 8,
      "outputs": []
    },
    {
      "cell_type": "code",
      "source": [
        "text_to_correct = input(\"Enter a sentence with possible misspelled words: \")\n",
        "corrected_text = spell(text_to_correct)\n",
        "print(\"Original text:\", text_to_correct)\n",
        "print(\"Corrected text:\", corrected_text)"
      ],
      "metadata": {
        "colab": {
          "base_uri": "https://localhost:8080/",
          "height": 0
        },
        "id": "fokVeGjtWkCe",
        "outputId": "fdbb3e8e-1b1f-4aff-9206-c166cbc71bc8"
      },
      "execution_count": 10,
      "outputs": [
        {
          "output_type": "stream",
          "name": "stdout",
          "text": [
            "Enter a sentence with possible misspelled words: Hi my nade is Pihu\n",
            "Original text: Hi my nade is Pihu\n",
            "Corrected text: Hi my name is Phu\n"
          ]
        }
      ]
    }
  ]
}